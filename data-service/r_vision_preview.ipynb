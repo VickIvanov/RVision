{
  "nbformat": 4,
  "nbformat_minor": 0,
  "metadata": {
    "colab": {
      "name": "r_vision_preview.ipynb",
      "provenance": []
    },
    "kernelspec": {
      "name": "python3",
      "display_name": "Python 3"
    }
  },
  "cells": [
    {
      "cell_type": "markdown",
      "metadata": {
        "id": "S9VNxdgTmqo3"
      },
      "source": [
        "Ставим Spacy для поиска сущностей"
      ]
    },
    {
      "cell_type": "code",
      "metadata": {
        "id": "U6Z4Zp5z1G0Q"
      },
      "source": [
        "!pip install spacy"
      ],
      "execution_count": null,
      "outputs": []
    },
    {
      "cell_type": "markdown",
      "metadata": {
        "id": "ID1TeFx4mwA4"
      },
      "source": [
        "Качаем исходники и словари с терминами"
      ]
    },
    {
      "cell_type": "code",
      "metadata": {
        "colab": {
          "base_uri": "https://localhost:8080/"
        },
        "id": "AGeQCTGCb2tp",
        "outputId": "c20b8806-5c20-4c1c-9cfd-35591ef60e08"
      },
      "source": [
        "!git clone https://github.com/R-Vision/rvision-hackathon-2021-q1.git"
      ],
      "execution_count": 1,
      "outputs": [
        {
          "output_type": "stream",
          "text": [
            "Cloning into 'rvision-hackathon-2021-q1'...\n",
            "remote: Enumerating objects: 1372, done.\u001b[K\n",
            "remote: Counting objects: 100% (1372/1372), done.\u001b[K\n",
            "remote: Compressing objects: 100% (1332/1332), done.\u001b[K\n",
            "remote: Total 1372 (delta 40), reused 1371 (delta 39), pack-reused 0\u001b[K\n",
            "Receiving objects: 100% (1372/1372), 15.43 MiB | 15.71 MiB/s, done.\n",
            "Resolving deltas: 100% (40/40), done.\n"
          ],
          "name": "stdout"
        }
      ]
    },
    {
      "cell_type": "code",
      "metadata": {
        "colab": {
          "base_uri": "https://localhost:8080/"
        },
        "id": "8aNNEHtD7J56",
        "outputId": "4edf7cf3-86a0-4e0a-9893-2b6f9f6d98e2"
      },
      "source": [
        "!git clone https://github.com/danil31219as/R-vision"
      ],
      "execution_count": 9,
      "outputs": [
        {
          "output_type": "stream",
          "text": [
            "Cloning into 'R-vision'...\n",
            "remote: Enumerating objects: 15, done.\u001b[K\n",
            "remote: Counting objects:   6% (1/15)\u001b[K\rremote: Counting objects:  13% (2/15)\u001b[K\rremote: Counting objects:  20% (3/15)\u001b[K\rremote: Counting objects:  26% (4/15)\u001b[K\rremote: Counting objects:  33% (5/15)\u001b[K\rremote: Counting objects:  40% (6/15)\u001b[K\rremote: Counting objects:  46% (7/15)\u001b[K\rremote: Counting objects:  53% (8/15)\u001b[K\rremote: Counting objects:  60% (9/15)\u001b[K\rremote: Counting objects:  66% (10/15)\u001b[K\rremote: Counting objects:  73% (11/15)\u001b[K\rremote: Counting objects:  80% (12/15)\u001b[K\rremote: Counting objects:  86% (13/15)\u001b[K\rremote: Counting objects:  93% (14/15)\u001b[K\rremote: Counting objects: 100% (15/15)\u001b[K\rremote: Counting objects: 100% (15/15), done.\u001b[K\n",
            "remote: Compressing objects:   9% (1/11)\u001b[K\rremote: Compressing objects:  18% (2/11)\u001b[K\rremote: Compressing objects:  27% (3/11)\u001b[K\rremote: Compressing objects:  36% (4/11)\u001b[K\rremote: Compressing objects:  45% (5/11)\u001b[K\rremote: Compressing objects:  54% (6/11)\u001b[K\rremote: Compressing objects:  63% (7/11)\u001b[K\rremote: Compressing objects:  72% (8/11)\u001b[K\rremote: Compressing objects:  81% (9/11)\u001b[K\rremote: Compressing objects:  90% (10/11)\u001b[K\rremote: Compressing objects: 100% (11/11)\u001b[K\rremote: Compressing objects: 100% (11/11), done.\u001b[K\n",
            "remote: Total 15 (delta 0), reused 0 (delta 0), pack-reused 0\u001b[K\n",
            "Unpacking objects:   6% (1/15)   \rUnpacking objects:  13% (2/15)   \rUnpacking objects:  20% (3/15)   \rUnpacking objects:  26% (4/15)   \rUnpacking objects:  33% (5/15)   \rUnpacking objects:  40% (6/15)   \rUnpacking objects:  46% (7/15)   \rUnpacking objects:  53% (8/15)   \rUnpacking objects:  60% (9/15)   \rUnpacking objects:  66% (10/15)   \rUnpacking objects:  73% (11/15)   \rUnpacking objects:  80% (12/15)   \rUnpacking objects:  86% (13/15)   \rUnpacking objects:  93% (14/15)   \rUnpacking objects: 100% (15/15)   \rUnpacking objects: 100% (15/15), done.\n"
          ],
          "name": "stdout"
        }
      ]
    },
    {
      "cell_type": "markdown",
      "metadata": {
        "id": "Z3ULoQXgm2Mg"
      },
      "source": [
        "Качаем NLTK для предобработки"
      ]
    },
    {
      "cell_type": "code",
      "metadata": {
        "colab": {
          "base_uri": "https://localhost:8080/"
        },
        "id": "Fq1OhznpIJ3a",
        "outputId": "dc75742d-05e5-42ec-c79f-8b7367b25b53"
      },
      "source": [
        "import nltk\r\n",
        "nltk.download('stopwords')\r\n",
        "nltk.download('wordnet')\r\n",
        "nltk.download('averaged_perceptron_tagger')"
      ],
      "execution_count": 41,
      "outputs": [
        {
          "output_type": "stream",
          "text": [
            "[nltk_data] Downloading package stopwords to /root/nltk_data...\n",
            "[nltk_data]   Package stopwords is already up-to-date!\n",
            "[nltk_data] Downloading package wordnet to /root/nltk_data...\n",
            "[nltk_data]   Package wordnet is already up-to-date!\n",
            "[nltk_data] Downloading package averaged_perceptron_tagger to\n",
            "[nltk_data]     /root/nltk_data...\n",
            "[nltk_data]   Unzipping taggers/averaged_perceptron_tagger.zip.\n"
          ],
          "name": "stdout"
        },
        {
          "output_type": "execute_result",
          "data": {
            "text/plain": [
              "True"
            ]
          },
          "metadata": {
            "tags": []
          },
          "execution_count": 41
        }
      ]
    },
    {
      "cell_type": "markdown",
      "metadata": {
        "id": "84RS3OTnm6Zs"
      },
      "source": [
        "Прописываем пути"
      ]
    },
    {
      "cell_type": "code",
      "metadata": {
        "id": "RIiKNOs2cmcA"
      },
      "source": [
        "import os\r\n",
        "import re\r\n",
        "import spacy\r\n",
        "import datetime\r\n",
        "nlp = spacy.load(\"en_core_web_sm\")\r\n",
        "marked_path = '/content/rvision-hackathon-2021-q1/marked/'\r\n",
        "dict_path = '/content/R-vision/dictionaries/'\r\n",
        "convert_2020_path = '/content/rvision-hackathon-2021-q1/converted/2020/'"
      ],
      "execution_count": 105,
      "outputs": []
    },
    {
      "cell_type": "code",
      "metadata": {
        "id": "GVhGktRPc5ky"
      },
      "source": [
        "marked = os.listdir(marked_path)\r\n",
        "convert = os.listdir(convert_2020_path)"
      ],
      "execution_count": 102,
      "outputs": []
    },
    {
      "cell_type": "code",
      "metadata": {
        "id": "ex7HhcgGdDBO"
      },
      "source": [
        "tag_set = ['software', 'threat_actor', 'tool', 'attack_pattern', 'mitre_attack', 'country', 'ioc', 'malware', 'industry', 'created', 'date']"
      ],
      "execution_count": 14,
      "outputs": []
    },
    {
      "cell_type": "markdown",
      "metadata": {
        "id": "oY_F12tnm_0o"
      },
      "source": [
        "Чистка от стоп-слов"
      ]
    },
    {
      "cell_type": "code",
      "metadata": {
        "id": "xBOKhuFWKL8Q"
      },
      "source": [
        "from nltk.corpus import stopwords\r\n",
        "def clean_text(text):\r\n",
        "  sw_eng = set(stopwords.words('english'))\r\n",
        "  patterns = \"[\\n]+\"\r\n",
        "  text = re.sub(patterns,r' ',text)\r\n",
        "  return ' '.join([word for word in text.split() if word.lower() not in sw_eng])"
      ],
      "execution_count": 37,
      "outputs": []
    },
    {
      "cell_type": "markdown",
      "metadata": {
        "id": "dydtToWMnCv9"
      },
      "source": [
        "Лемматизация"
      ]
    },
    {
      "cell_type": "code",
      "metadata": {
        "id": "gVYF3ysmMsDQ"
      },
      "source": [
        "from nltk import WordNetLemmatizer\r\n",
        "from nltk import wordnet, pos_tag\r\n",
        "def my_lemmatizer(sent):\r\n",
        "    lemmatizer = WordNetLemmatizer()\r\n",
        "    tokenized_sent = sent.split()\r\n",
        "    pos_tagged = [(word, get_wordnet_pos(tag))\r\n",
        "                 for word, tag in pos_tag(tokenized_sent)]\r\n",
        "    return ' '.join([lemmatizer.lemmatize(word, tag)\r\n",
        "                    for word, tag in pos_tagged])"
      ],
      "execution_count": 39,
      "outputs": []
    },
    {
      "cell_type": "code",
      "metadata": {
        "id": "zR7A_pVsVs8l"
      },
      "source": [
        "def get_wordnet_pos(treebank_tag):\r\n",
        "    my_switch = {\r\n",
        "        'J': wordnet.wordnet.ADJ,\r\n",
        "        'V': wordnet.wordnet.VERB,\r\n",
        "        'N': wordnet.wordnet.NOUN,\r\n",
        "        'R': wordnet.wordnet.ADV,\r\n",
        "    }\r\n",
        "    for key, item in my_switch.items():\r\n",
        "        if treebank_tag.startswith(key):\r\n",
        "            return item\r\n",
        "    return wordnet.wordnet.NOUN"
      ],
      "execution_count": 43,
      "outputs": []
    },
    {
      "cell_type": "markdown",
      "metadata": {
        "id": "EBA5NXd-nF_d"
      },
      "source": [
        "Ищем сущности времени и места"
      ]
    },
    {
      "cell_type": "code",
      "metadata": {
        "id": "vXz9jbZYk_W0"
      },
      "source": [
        "def set_country_time(text):\r\n",
        "  countries = False\r\n",
        "  timestamp = ''\r\n",
        "  timestamp_2 = ''\r\n",
        "  country = ''\r\n",
        "  for ent in nlp(text).ents:\r\n",
        "    \r\n",
        "    if (ent.label_ == 'DATE' or ent.label_ == 'TIME') and len(ent.text) > len(timestamp) and re.findall('[0-9]+', ent.text):\r\n",
        "      timestamp = ent.text\r\n",
        "    if (ent.label_ == 'DATE' or ent.label_ == 'TIME') and len(ent.text) > len(timestamp_2) and ent.text != timestamp:\r\n",
        "      timestamp_2 = ent.text\r\n",
        "    elif ent.label_ == 'GPE' and not countries:\r\n",
        "      country = ent.text\r\n",
        "      countries = True\r\n",
        "  if timestamp and len(timestamp) < 12:\r\n",
        "    return [timestamp, country]\r\n",
        "  return [timestamp_2, country]"
      ],
      "execution_count": 87,
      "outputs": []
    },
    {
      "cell_type": "markdown",
      "metadata": {
        "id": "MxaXNdsZnLjD"
      },
      "source": [
        "Ищем IOC по паттерну"
      ]
    },
    {
      "cell_type": "code",
      "metadata": {
        "id": "51QHY0saPvOi"
      },
      "source": [
        "def set_ioc(text):\r\n",
        "  iocs = []\r\n",
        "  for ioc in re.findall('[0-9]+[a-z]+\\w*', text):\r\n",
        "    if ioc and len(ioc) > 10:\r\n",
        "      iocs.append(ioc)\r\n",
        "  return iocs"
      ],
      "execution_count": 27,
      "outputs": []
    },
    {
      "cell_type": "markdown",
      "metadata": {
        "id": "1Qq6Cvl9nQG9"
      },
      "source": [
        "Malware по словарю терминов + шаблон"
      ]
    },
    {
      "cell_type": "code",
      "metadata": {
        "id": "TN2U_DfIPpXU"
      },
      "source": [
        "def set_malware(text):\r\n",
        "  malware_list = open(dict_path + 'malware_list.txt').read().split('\\n')\r\n",
        "  malwares = []\r\n",
        "  for word in text.split():\r\n",
        "    if word.lower() in malware_list:\r\n",
        "      malwares.append(word)\r\n",
        "  for word in text.split():\r\n",
        "    if re.findall('\\w+[.]+\\w+[.]+', word) and not word.startswith('http') and not word.startswith('www'):\r\n",
        "      malwares.append(word)\r\n",
        "  return malwares"
      ],
      "execution_count": 137,
      "outputs": []
    },
    {
      "cell_type": "markdown",
      "metadata": {
        "id": "GtuxPeUJnWFi"
      },
      "source": [
        "Software из словаря терминов"
      ]
    },
    {
      "cell_type": "code",
      "metadata": {
        "id": "wYWp4En3QIUg"
      },
      "source": [
        "def set_software(text):\r\n",
        "  software_list = open(dict_path + 'software_list.txt').read().lower().split('\\n')\r\n",
        "  softwares = []\r\n",
        "  for soft in software_list:\r\n",
        "    if soft and soft in text.lower().split():\r\n",
        "      softwares.append(soft)\r\n",
        "    else:\r\n",
        "      flag = True\r\n",
        "      for elem in soft.split():\r\n",
        "        if elem not in text.lower().split():\r\n",
        "          flag = False\r\n",
        "      if soft and flag:\r\n",
        "        softwares.append(soft)\r\n",
        "  return softwares"
      ],
      "execution_count": 29,
      "outputs": []
    },
    {
      "cell_type": "markdown",
      "metadata": {
        "id": "1ug0CIZvnaIg"
      },
      "source": [
        "Код mitre_attack по паттерну"
      ]
    },
    {
      "cell_type": "code",
      "metadata": {
        "id": "PL6Fi0ehpjaT"
      },
      "source": [
        "def set_mitre_attack(text, malwares):\r\n",
        "  mitres = []\r\n",
        "  for attack in re.findall('[T]+[0-9]+\\w*', text):\r\n",
        "    if attack and attack not in malwares:\r\n",
        "      mitres.append(attack)\r\n",
        "  return mitres"
      ],
      "execution_count": 30,
      "outputs": []
    },
    {
      "cell_type": "markdown",
      "metadata": {
        "id": "oc2sWEQwngiZ"
      },
      "source": [
        "Threat_actor по словарю терминов"
      ]
    },
    {
      "cell_type": "code",
      "metadata": {
        "id": "EgXb0vSnQ7rh"
      },
      "source": [
        "def set_threat_actor(text):\r\n",
        "  threat_actors = open(dict_path + 'threat_actors.txt').read().lower().split('\\n')\r\n",
        "  actors = []\r\n",
        "  for actor in threat_actors:\r\n",
        "    if actor and actor in text.lower().split():\r\n",
        "      actors.append(actor)\r\n",
        "    else:\r\n",
        "      flag = True\r\n",
        "      for elem in actor.split():\r\n",
        "        if elem not in text.lower().split():\r\n",
        "          flag = False\r\n",
        "      if flag and actor:\r\n",
        "        actors.append(actor)\r\n",
        "  return actors"
      ],
      "execution_count": 90,
      "outputs": []
    },
    {
      "cell_type": "markdown",
      "metadata": {
        "id": "kqzRqfBWnnCL"
      },
      "source": [
        "Tool и Attack_pattern из словарей"
      ]
    },
    {
      "cell_type": "code",
      "metadata": {
        "id": "1OoWDsZKRzrd"
      },
      "source": [
        "def set_tool(text):\r\n",
        "  tool_list = open(dict_path + 'tools.txt').read().lower().split('\\n')\r\n",
        "  tools = []\r\n",
        "  for tool in tool_list:\r\n",
        "    if tool and tool in text.lower().split():\r\n",
        "      tools.append(tool)\r\n",
        "    else:\r\n",
        "      flag = True\r\n",
        "      for elem in tool.split():\r\n",
        "        if elem not in text.lower().split():\r\n",
        "          flag = False\r\n",
        "      if tool and flag:\r\n",
        "        tools.append(tool)\r\n",
        "  return tools"
      ],
      "execution_count": 32,
      "outputs": []
    },
    {
      "cell_type": "code",
      "metadata": {
        "id": "hbh_udhMgFgg"
      },
      "source": [
        "def set_attack_pattern(text):\r\n",
        "  attack_pattern_list = open(dict_path + 'attack_patterns.txt').read().lower().split('\\n')\r\n",
        "  attack_patterns = []\r\n",
        "  for attack_pattern in attack_patterns:\r\n",
        "    if attack_pattern and attack_pattern in text.lower().split():\r\n",
        "      attack_patterns.append(attack_pattern)\r\n",
        "    else:\r\n",
        "      flag = True\r\n",
        "      for elem in attack_pattern.split():\r\n",
        "        if elem not in text.lower().split():\r\n",
        "          flag = False\r\n",
        "      if attack_pattern and flag:\r\n",
        "        attack_patterns.append(attack_pattern)\r\n",
        "  return attack_patterns"
      ],
      "execution_count": 33,
      "outputs": []
    },
    {
      "cell_type": "markdown",
      "metadata": {
        "id": "z0Uk-cR7nuKz"
      },
      "source": [
        "Собираем объекты и сохраняем в json"
      ]
    },
    {
      "cell_type": "code",
      "metadata": {
        "id": "LEJ3DYtBiFb1"
      },
      "source": [
        "objects = []\r\n",
        "for i in range(len(convert)):\r\n",
        "  d_tags = {}\r\n",
        "  text = open(convert_2020_path + convert[i]).read()\r\n",
        "  text = clean_text(text)\r\n",
        "  text = my_lemmatizer(text)\r\n",
        "  d_tags['ioc'] = list(set(set_ioc(text)))[:10]\r\n",
        "  d_tags['date'], d_tags['country'] = set_country_time(text)\r\n",
        "  d_tags['malware'] = list(set(set_malware(text)))[:10]\r\n",
        "  d_tags['software'] = list(set(set_software(text)))[:10]\r\n",
        "  d_tags['mitre_attack'] = list(set(set_mitre_attack(text, d_tags['malware'])))[:10]\r\n",
        "  d_tags['threat_actor'] = list(set(set_threat_actor(text)))[:10]\r\n",
        "  d_tags['tool'] = list(set(set_tool(text)))[:10]\r\n",
        "  d_tags['attack_pattern'] = list(set(set_attack_pattern(text)))[:10]\r\n",
        "  d_tags['created'] = str(datetime.datetime.today())\r\n",
        "  objects.append(d_tags)"
      ],
      "execution_count": 108,
      "outputs": []
    },
    {
      "cell_type": "code",
      "metadata": {
        "colab": {
          "base_uri": "https://localhost:8080/"
        },
        "id": "KdxD0iNcZ-jG",
        "outputId": "b39534b2-c8ee-4939-e42c-a6ac2885d55c"
      },
      "source": [
        "objects[10]"
      ],
      "execution_count": 136,
      "outputs": [
        {
          "output_type": "execute_result",
          "data": {
            "text/plain": [
              "{'attack_pattern': [],\n",
              " 'country': 'North Korea',\n",
              " 'created': '2021-01-30 22:35:40.346043',\n",
              " 'date': '13c47e19182454efa60890656244ee11c76b4904 2020',\n",
              " 'ioc': ['7933716892e0d6053057f5f2df0ccadf5b06dc739fea79ee533dd0cec98ca971',\n",
              "  '70f66e3131cfbda4d2b82ce9325fed79e1b3c7186bdbb5478f8cbd49b965a120',\n",
              "  '23ec1c1d2182',\n",
              "  '13c47e19182454efa60890656244ee11c76b4904',\n",
              "  '659c854bbdefe692ee8c52761e7a8c7ee35aa56c',\n",
              "  '35577959f79966b01f520e2f0283969155b8f8d7',\n",
              "  '1e2a9367338d185ef477acc4d91ad45f5e6a7d11936c3eb4be463ae0b119185',\n",
              "  '16d421807502a0b2429160e0bd960fa57f37efc4',\n",
              "  '3847f5de342632f8f9e2901f16b7127472493ae',\n",
              "  '6a3446b8a47f0ab4f536015218b22653fff8b18c595fbc5b0c09d857eba7c7a1'],\n",
              " 'malware': ['saemaeul.mireene.com',\n",
              "  'KONNI',\n",
              "  'hxxps://web.opendrive.com/api/v1/download/file.json/MzBfMjA1Njc0ODhf?inline=0',\n",
              "  '***_ECS_EPM.docx.',\n",
              "  'orblog.mireene.com',\n",
              "  'sgmedia.mireene.com',\n",
              "  'hxxp://saemaeul.mireene.com/skin/visit/basic/log',\n",
              "  'jmable.mireene.com',\n",
              "  '10.8.11.9',\n",
              "  'od.lk.'],\n",
              " 'mitre_attack': ['T37'],\n",
              " 'software': ['microsoft office',\n",
              "  'windows',\n",
              "  'assembly',\n",
              "  'microsoft',\n",
              "  'sql',\n",
              "  'xml',\n",
              "  'access',\n",
              "  'basic',\n",
              "  'visual basic'],\n",
              " 'threat_actor': ['gamaredon group'],\n",
              " 'tool': ['web']}"
            ]
          },
          "metadata": {
            "tags": []
          },
          "execution_count": 136
        }
      ]
    },
    {
      "cell_type": "code",
      "metadata": {
        "id": "Nul0AxmqePkg"
      },
      "source": [
        ""
      ],
      "execution_count": null,
      "outputs": []
    }
  ]
}